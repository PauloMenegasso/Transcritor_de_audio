{
 "cells": [
  {
   "cell_type": "markdown",
   "id": "64b8eeac",
   "metadata": {},
   "source": [
    "### download e instalação das bibliotecas necessárias"
   ]
  },
  {
   "cell_type": "code",
   "execution_count": 2,
   "id": "a97a0dbd",
   "metadata": {},
   "outputs": [
    {
     "name": "stdout",
     "output_type": "stream",
     "text": [
      "Requirement already satisfied: pydub in c:\\users\\user\\anaconda3\\lib\\site-packages (0.25.1)\n",
      "Requirement already satisfied: SpeechRecognition in c:\\users\\user\\anaconda3\\lib\\site-packages (3.8.1)\n"
     ]
    }
   ],
   "source": [
    "#Só precisa rodar a primeira vez na máquina\n",
    "!pip install pydub\n",
    "!pip3 install SpeechRecognition"
   ]
  },
  {
   "cell_type": "markdown",
   "id": "fcccc453",
   "metadata": {},
   "source": [
    "## Imports necessários"
   ]
  },
  {
   "cell_type": "code",
   "execution_count": 3,
   "id": "5f462888",
   "metadata": {},
   "outputs": [],
   "source": [
    "from pydub import AudioSegment\n",
    "import speech_recognition as sr\n",
    "import os\n",
    "import sys"
   ]
  },
  {
   "cell_type": "code",
   "execution_count": 4,
   "id": "77fcaec5",
   "metadata": {},
   "outputs": [],
   "source": [
    "oggs = [] # audio de whatsapp\n",
    "mp3s = [] # tipo de audio mais comum\n",
    "wavs = [] # tipo aceito pelo speech_recognition\n",
    "dirs = os.listdir()"
   ]
  },
  {
   "cell_type": "code",
   "execution_count": 5,
   "id": "4252a178",
   "metadata": {},
   "outputs": [],
   "source": [
    "##Separação dos arquivos em seus formatos\n",
    "for file in dirs:\n",
    "    if file.endswith('ogg'):\n",
    "        oggs.append(file)\n",
    "    else if file.endswith('mp3'):\n",
    "        mp3s.append(file)\n",
    "    else if file.endswith('wav'):\n",
    "        wavs.append(file)"
   ]
  },
  {
   "cell_type": "code",
   "execution_count": null,
   "id": "e95f6450",
   "metadata": {},
   "outputs": [],
   "source": [
    "#função conversora de mp3 para wav\n",
    "def mp3_to_wav(name):\n",
    "    song = AudioSegment.from_mp3(name)\n",
    "    export_name = os.path.splitext(name)[0]\n",
    "    new_audio = song.export(export_name + '.wav', format = 'wav')\n",
    "    return new_audio"
   ]
  },
  {
   "cell_type": "code",
   "execution_count": 76,
   "id": "fb5b0269",
   "metadata": {},
   "outputs": [],
   "source": [
    "#função conversora de ogg para wav\n",
    "def ogg_to_wav(name):\n",
    "    song = AudioSegment.from_ogg(name)\n",
    "    export_name = os.path.splitext(name)[0]\n",
    "    new_audio = song.export(export_name + '.wav', format = 'wav')\n",
    "    return new_audio"
   ]
  },
  {
   "cell_type": "code",
   "execution_count": null,
   "id": "7094c6ad",
   "metadata": {},
   "outputs": [],
   "source": [
    "#conversão dos arquivos de audio da pasta\n",
    "for ogg in oggs:\n",
    "    wavs.append(ogg_to_wave(ogg))\n",
    "for mp3 in mp3s:\n",
    "    wavs.append(mp3_to_wave(mp3))"
   ]
  },
  {
   "cell_type": "code",
   "execution_count": null,
   "id": "40336d7d",
   "metadata": {},
   "outputs": [],
   "source": [
    "transcriptions = {}\n",
    "r = sr.Recognizer()\n",
    "for wav in wavs:\n",
    "    file_name = os.path.splitext(name)[0]\n",
    "    audio = sr.AudioFile(wav)\n",
    "    with audio as source:\n",
    "      texto = r.record(source)\n",
    "    transcription = r.recognize_google(texto, language = 'pt-BR')\n",
    "    transcriptions[file_name] = transcription\n",
    "    print(file_name, transcription)"
   ]
  },
  {
   "cell_type": "code",
   "execution_count": null,
   "id": "2f3a62b8",
   "metadata": {},
   "outputs": [],
   "source": [
    "transcriptions"
   ]
  }
 ],
 "metadata": {
  "kernelspec": {
   "display_name": "Python 3",
   "language": "python",
   "name": "python3"
  },
  "language_info": {
   "codemirror_mode": {
    "name": "ipython",
    "version": 3
   },
   "file_extension": ".py",
   "mimetype": "text/x-python",
   "name": "python",
   "nbconvert_exporter": "python",
   "pygments_lexer": "ipython3",
   "version": "3.8.8"
  }
 },
 "nbformat": 4,
 "nbformat_minor": 5
}
